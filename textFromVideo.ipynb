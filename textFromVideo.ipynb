{
 "cells": [
  {
   "cell_type": "code",
   "execution_count": null,
   "metadata": {},
   "outputs": [],
   "source": [
    "# best way to import Image\n",
    "try:\n",
    "    from PIL import Image\n",
    "except ImportError:\n",
    "    import Image\n",
    "import cv2\n",
    "import pytesseract"
   ]
  },
  {
   "cell_type": "code",
   "execution_count": null,
   "metadata": {},
   "outputs": [],
   "source": [
    "pytesseract.pytesseract.tesseract_cmd = r'C:\\Program Files\\Tesseract-OCR\\tesseract.exe'"
   ]
  },
  {
   "cell_type": "code",
   "execution_count": null,
   "metadata": {},
   "outputs": [],
   "source": []
  },
  {
   "cell_type": "code",
   "execution_count": null,
   "metadata": {},
   "outputs": [],
   "source": [
    "cam = cv2.VideoCapture(0)  # camera id\n",
    "cam.set(3, 640)  # weidth\n",
    "cam.set(4, 480)  # height\n",
    "cam.set(10, 130)  # brightness\n",
    "\n",
    "while True:\n",
    "    success, img = cam.read()\n",
    "    img_rgb = cv2.cvtColor(img, cv2.COLOR_BGR2RGB)\n",
    "    \n",
    "#     texts = pytesseract.image_to_string(lang = 'eng',image=img_rgb, config='--psm 6')\n",
    "    font = cv2.FONT_HERSHEY_SIMPLEX\n",
    "    imgHeight, imgWidth, _ = img.shape\n",
    "    boxes = pytesseract.image_to_boxes(img_rgb)\n",
    "    for b in boxes.splitles():\n",
    "#         print(b)\n",
    "        b.split('')\n",
    "        x, y, w, h=  int(b[1]),int(b[2]),int(b[3]), int(b[4])\n",
    "        cv2.rectangle(img, (x, imgHeight-y), (w, imgHeight- h), color, 3)\n",
    "    \n",
    "    cv2.imshow(\"vide\", img)\n",
    "    if cv2.waitKey(1) & 0xFF == ord(\"q\"):\n",
    "        break\n",
    "        \n",
    "cam.release()\n",
    "cv2.destroyAllWindows()"
   ]
  },
  {
   "cell_type": "code",
   "execution_count": null,
   "metadata": {},
   "outputs": [],
   "source": []
  }
 ],
 "metadata": {
  "kernelspec": {
   "display_name": "Python 3",
   "language": "python",
   "name": "python3"
  },
  "language_info": {
   "codemirror_mode": {
    "name": "ipython",
    "version": 3
   },
   "file_extension": ".py",
   "mimetype": "text/x-python",
   "name": "python",
   "nbconvert_exporter": "python",
   "pygments_lexer": "ipython3",
   "version": "3.8.5"
  }
 },
 "nbformat": 4,
 "nbformat_minor": 4
}
